{
 "cells": [
  {
   "cell_type": "markdown",
   "metadata": {},
   "source": [
    "# Clinical Terminology Detection with AWS Services\n",
    "\n",
    "In this example we will use AWS Services to convert clinical notes into SNOMED CT classifications. The steps are as follows:\n",
    "\n",
    "1. Comprehend Medical identifies the clinical entities in the text\n",
    "2. These entites are converted to SNOMED idenitifiers using the SNOMED website.\n",
    "\n",
    "This is a python adaptation of the ideas described in the blogpost and associated code:\n",
    "https://aws.amazon.com/blogs/machine-learning/map-clinical-notes-to-the-omop-common-data-model-and-healthcare-ontologies-using-amazon-comprehend-medical/\n",
    "\n",
    "Note: After investigation it was determined that this example no longer functions properly due to changes in the SNOMED browser APIs.\n"
   ]
  },
  {
   "cell_type": "code",
   "execution_count": 15,
   "metadata": {},
   "outputs": [],
   "source": [
    "import pandas as pd\n",
    "import numpy as np\n",
    "import sagemaker\n",
    "import boto3\n",
    "import glob\n",
    "from decimal import *\n",
    "\n",
    "boto_session = boto3.Session()\n",
    "region = boto_session.region_name\n",
    "sgmk_session = sagemaker.Session()\n",
    "sgmk_role = sagemaker.get_execution_role()"
   ]
  },
  {
   "cell_type": "markdown",
   "metadata": {},
   "source": [
    "# Access Comprehend Medical\n",
    "\n",
    "Access to comprehend medical will require an IAM user role with specific policy added to permit the API. In this example we have used the AWS managed policy: [ComprehendMedicalFullAccess](https://console.aws.amazon.com/iam/home#/policies/arn%3Aaws%3Aiam%3A%3Aaws%3Apolicy%2FComprehendMedicalFullAccess). However, you can add a custom or inline policy to permit access to certain API endpoint only by following [these instructions](https://docs.aws.amazon.com/comprehend/latest/dg/access-control-managing-permissions-med.html)."
   ]
  },
  {
   "cell_type": "code",
   "execution_count": null,
   "metadata": {},
   "outputs": [],
   "source": [
    "comprehend = boto3.client('comprehend', region_name=region)"
   ]
  },
  {
   "cell_type": "code",
   "execution_count": 18,
   "metadata": {},
   "outputs": [],
   "source": [
    "def call_comprehend_medical(note_text):\n",
    "    client = boto3.client(service_name='comprehendmedical', region_name=region)\n",
    "    result = client.detect_entities(Text = note_text)\n",
    "    entities = result['Entities'];\n",
    "    return entities"
   ]
  },
  {
   "cell_type": "markdown",
   "metadata": {},
   "source": [
    "# Examples\n",
    "\n",
    "Here are three examples taken from the synthetic nursing handover dateset."
   ]
  },
  {
   "cell_type": "code",
   "execution_count": 19,
   "metadata": {},
   "outputs": [],
   "source": [
    "handovers =  []"
   ]
  },
  {
   "cell_type": "code",
   "execution_count": 20,
   "metadata": {},
   "outputs": [],
   "source": [
    "handovers.append(\"Vera Abbott,93, bed four, under Dr Liu came in with chest pain with a history of stroke and previous chest pains,asthma,cataract and glaucoma.almost blind and needs assistance.had 3 nitros with no effect.still under monitoring\")"
   ]
  },
  {
   "cell_type": "code",
   "execution_count": 21,
   "metadata": {},
   "outputs": [],
   "source": [
    "handovers.append(\"Bed eight, Michael I Wu. Forty-eight years under Dr Hanlen. He came in with headache and vertigo. He's got a history of headache, tinnitus, Bell's Palsy to the left side of his face. That's where his headache has been for the last three years. He's also got photophobia. His GCS is 15 pupils equal and reactive. He's just came back from a brain MRI in Woden. He's ambulant and self-caring but he's a little bit unsteady at times. OBS are stable. He is for carotid doppler, he was supposed to have this morning at 950 but that pushed it back to 1050. Hmmm. 1030, sorry. Because they were late. Then the team were here and they said it's cutting it too close to his MRI so he needs another carotid doppler appointment. Other than that Mike is fine.\")"
   ]
  },
  {
   "cell_type": "code",
   "execution_count": 22,
   "metadata": {},
   "outputs": [],
   "source": [
    "handovers.append(\"Yunita Muleta, bed 7,  51 years old under Dr Garcia, came in with heartburn under investigation.obs stable.nil other issues\")"
   ]
  },
  {
   "cell_type": "code",
   "execution_count": 24,
   "metadata": {},
   "outputs": [],
   "source": [
    " ents = call_comprehend_medical(handovers[0])"
   ]
  },
  {
   "cell_type": "code",
   "execution_count": 25,
   "metadata": {},
   "outputs": [
    {
     "data": {
      "text/plain": [
       "[{'Id': 9,\n",
       "  'BeginOffset': 0,\n",
       "  'EndOffset': 11,\n",
       "  'Score': 0.9181470274925232,\n",
       "  'Text': 'Vera Abbott',\n",
       "  'Category': 'PROTECTED_HEALTH_INFORMATION',\n",
       "  'Type': 'NAME',\n",
       "  'Traits': []},\n",
       " {'Id': 10,\n",
       "  'BeginOffset': 35,\n",
       "  'EndOffset': 38,\n",
       "  'Score': 0.9977637529373169,\n",
       "  'Text': 'Liu',\n",
       "  'Category': 'PROTECTED_HEALTH_INFORMATION',\n",
       "  'Type': 'NAME',\n",
       "  'Traits': []},\n",
       " {'Id': 0,\n",
       "  'BeginOffset': 52,\n",
       "  'EndOffset': 57,\n",
       "  'Score': 0.9450081586837769,\n",
       "  'Text': 'chest',\n",
       "  'Category': 'ANATOMY',\n",
       "  'Type': 'SYSTEM_ORGAN_SITE',\n",
       "  'Traits': []},\n",
       " {'Id': 3,\n",
       "  'BeginOffset': 52,\n",
       "  'EndOffset': 62,\n",
       "  'Score': 0.7490196824073792,\n",
       "  'Text': 'chest pain',\n",
       "  'Category': 'MEDICAL_CONDITION',\n",
       "  'Type': 'DX_NAME',\n",
       "  'Traits': [{'Name': 'SYMPTOM', 'Score': 0.5308904647827148},\n",
       "   {'Name': 'DIAGNOSIS', 'Score': 0.46669456362724304}]},\n",
       " {'Id': 4,\n",
       "  'BeginOffset': 81,\n",
       "  'EndOffset': 87,\n",
       "  'Score': 0.9930179119110107,\n",
       "  'Text': 'stroke',\n",
       "  'Category': 'MEDICAL_CONDITION',\n",
       "  'Type': 'DX_NAME',\n",
       "  'Traits': [{'Name': 'DIAGNOSIS', 'Score': 0.9412150979042053}]},\n",
       " {'Id': 1,\n",
       "  'BeginOffset': 101,\n",
       "  'EndOffset': 106,\n",
       "  'Score': 0.9829351305961609,\n",
       "  'Text': 'chest',\n",
       "  'Category': 'ANATOMY',\n",
       "  'Type': 'SYSTEM_ORGAN_SITE',\n",
       "  'Traits': []},\n",
       " {'Id': 5,\n",
       "  'BeginOffset': 101,\n",
       "  'EndOffset': 112,\n",
       "  'Score': 0.9337283372879028,\n",
       "  'Text': 'chest pains',\n",
       "  'Category': 'MEDICAL_CONDITION',\n",
       "  'Type': 'DX_NAME',\n",
       "  'Traits': [{'Name': 'SYMPTOM', 'Score': 0.5207357406616211},\n",
       "   {'Name': 'DIAGNOSIS', 'Score': 0.4948524534702301}]},\n",
       " {'Id': 6,\n",
       "  'BeginOffset': 113,\n",
       "  'EndOffset': 119,\n",
       "  'Score': 0.9979357719421387,\n",
       "  'Text': 'asthma',\n",
       "  'Category': 'MEDICAL_CONDITION',\n",
       "  'Type': 'DX_NAME',\n",
       "  'Traits': [{'Name': 'DIAGNOSIS', 'Score': 0.8896088004112244}]},\n",
       " {'Id': 7,\n",
       "  'BeginOffset': 120,\n",
       "  'EndOffset': 128,\n",
       "  'Score': 0.9907796382904053,\n",
       "  'Text': 'cataract',\n",
       "  'Category': 'MEDICAL_CONDITION',\n",
       "  'Type': 'DX_NAME',\n",
       "  'Traits': [{'Name': 'DIAGNOSIS', 'Score': 0.8635338544845581}]},\n",
       " {'Id': 8,\n",
       "  'BeginOffset': 133,\n",
       "  'EndOffset': 141,\n",
       "  'Score': 0.9992656111717224,\n",
       "  'Text': 'glaucoma',\n",
       "  'Category': 'MEDICAL_CONDITION',\n",
       "  'Type': 'DX_NAME',\n",
       "  'Traits': [{'Name': 'DIAGNOSIS', 'Score': 0.9294148087501526}]},\n",
       " {'Id': 2,\n",
       "  'BeginOffset': 182,\n",
       "  'EndOffset': 188,\n",
       "  'Score': 0.381728857755661,\n",
       "  'Text': 'nitros',\n",
       "  'Category': 'MEDICATION',\n",
       "  'Type': 'GENERIC_NAME',\n",
       "  'Traits': []}]"
      ]
     },
     "execution_count": 25,
     "metadata": {},
     "output_type": "execute_result"
    }
   ],
   "source": [
    "ents"
   ]
  },
  {
   "cell_type": "markdown",
   "metadata": {},
   "source": [
    "# Process the returned Named Entities\n",
    "\n",
    "Comprehend medical has produced a set of named entities from the handover text.\n",
    "We can process these by both type and confidence score."
   ]
  },
  {
   "cell_type": "code",
   "execution_count": 29,
   "metadata": {},
   "outputs": [],
   "source": [
    "\n",
    "min_score = 0.8\n",
    "\n",
    "def acceptable_entity(entity):\n",
    "    if (entity['Category'] == \"PROTECTED_HEALTH_INFORMATION\"):\n",
    "        return False\n",
    "    if (entity['Score'] < min_score):\n",
    "        return False\n",
    "    return True\n"
   ]
  },
  {
   "cell_type": "code",
   "execution_count": 32,
   "metadata": {},
   "outputs": [],
   "source": [
    "def process_entities_to_list(entities):\n",
    "    result = []\n",
    "    for entity in entities:        \n",
    "        if acceptable_entity(entity):\n",
    "            result.append(entity['Text'])\n",
    "    return result\n",
    "        "
   ]
  },
  {
   "cell_type": "code",
   "execution_count": 33,
   "metadata": {},
   "outputs": [
    {
     "name": "stdout",
     "output_type": "stream",
     "text": [
      "['chest', 'stroke', 'chest', 'chest pains', 'asthma', 'cataract', 'glaucoma']\n"
     ]
    }
   ],
   "source": [
    "print(process_entities_to_list(ents))"
   ]
  },
  {
   "cell_type": "markdown",
   "metadata": {},
   "source": [
    "# Query SNOMED\n",
    "\n",
    "In this final section we used the R code from the exmaple blog to query SNOMED for the entities that had been identified. \n",
    "\n",
    "This section is not functional due to API changes."
   ]
  },
  {
   "cell_type": "code",
   "execution_count": 34,
   "metadata": {},
   "outputs": [],
   "source": [
    "import requests"
   ]
  },
  {
   "cell_type": "code",
   "execution_count": 35,
   "metadata": {},
   "outputs": [],
   "source": [
    "# GET SNOMED CODES\n",
    "#  REST interface for search the SNOMED ontology\n",
    "base = \"https://browser.ihtsdotools.org/\"\n",
    "endpoint = \"api/snomed/en-edition/v20180131/descriptions\"\n",
    "query_params = \"&limit=1&searchMode=partialMatching&lang=english&statusFilter=activeOnly&skipTo=0&returnLimit=1&normalize=true\"\n",
    "\n",
    "def get_snomed_query_url(text):\n",
    "    return base + endpoint +\"?query=\" + text + query_params\n",
    "\n",
    "#get_snomed = GET(snomed_call, type = \"basic\")\n",
    "#get_snomed_text = content(get_snomed, \"text\")"
   ]
  },
  {
   "cell_type": "code",
   "execution_count": 37,
   "metadata": {},
   "outputs": [
    {
     "data": {
      "text/plain": [
       "'https://browser.ihtsdotools.org/api/snomed/en-edition/v20180131/descriptions?query=chest&limit=1&searchMode=partialMatching&lang=english&statusFilter=activeOnly&skipTo=0&returnLimit=1&normalize=true'"
      ]
     },
     "execution_count": 37,
     "metadata": {},
     "output_type": "execute_result"
    }
   ],
   "source": [
    "get_snomed_query_url('chest')"
   ]
  },
  {
   "cell_type": "code",
   "execution_count": 36,
   "metadata": {},
   "outputs": [
    {
     "name": "stdout",
     "output_type": "stream",
     "text": [
      "<Response [404]>\n"
     ]
    }
   ],
   "source": [
    "response = requests.get( get_snomed_query_url('chest') )\n",
    "print(response)"
   ]
  },
  {
   "cell_type": "code",
   "execution_count": null,
   "metadata": {},
   "outputs": [],
   "source": []
  }
 ],
 "metadata": {
  "instance_type": "ml.t3.medium",
  "kernelspec": {
   "display_name": "Python 3 (Data Science)",
   "language": "python",
   "name": "python3__SAGEMAKER_INTERNAL__arn:aws:sagemaker:ap-southeast-2:452832661640:image/datascience-1.0"
  },
  "language_info": {
   "codemirror_mode": {
    "name": "ipython",
    "version": 3
   },
   "file_extension": ".py",
   "mimetype": "text/x-python",
   "name": "python",
   "nbconvert_exporter": "python",
   "pygments_lexer": "ipython3",
   "version": "3.7.10"
  }
 },
 "nbformat": 4,
 "nbformat_minor": 4
}
